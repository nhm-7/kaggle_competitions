{
 "cells": [
  {
   "cell_type": "markdown",
   "id": "42fdb9b2",
   "metadata": {
    "id": "aaaec5ae",
    "papermill": {
     "duration": 0.032138,
     "end_time": "2021-12-05T14:01:06.195025",
     "exception": false,
     "start_time": "2021-12-05T14:01:06.162887",
     "status": "completed"
    },
    "tags": []
   },
   "source": [
    "## IDAO ([International Data Analysis Olympiad](https://idao.world/bootcamp/)) | 24 hours competition | Nicolás Hörmann\n",
    "\n",
    "These are the experiments I wrote for the IDAO competition.\n",
    "\n",
    "This notebook divides into following steps:\n",
    "\n",
    "- imports\n",
    "\n",
    "- functions and exp runnner\n",
    "\n",
    "- read an preprocess the data\n",
    "\n",
    "- reproducible pipelines definition\n",
    "\n",
    "- run experiments using several pipelines and see all the partial results in each experimentation iteration (waves)"
   ]
  },
  {
   "cell_type": "code",
   "execution_count": null,
   "id": "75ce0f26",
   "metadata": {
    "execution": {
     "iopub.execute_input": "2021-12-05T14:01:06.259689Z",
     "iopub.status.busy": "2021-12-05T14:01:06.258652Z",
     "iopub.status.idle": "2021-12-05T14:02:08.276111Z",
     "shell.execute_reply": "2021-12-05T14:02:08.275412Z",
     "shell.execute_reply.started": "2021-12-05T13:08:51.832720Z"
    },
    "papermill": {
     "duration": 62.050633,
     "end_time": "2021-12-05T14:02:08.276279",
     "exception": false,
     "start_time": "2021-12-05T14:01:06.225646",
     "status": "completed"
    },
    "tags": []
   },
   "outputs": [],
   "source": [
    "!pip install catboost xgboost==1.4.2 lightgbm==3.2.1\n",
    "!pip install scikit-learn  -U\n",
    "!pip install scipy==1.5.3"
   ]
  },
  {
   "cell_type": "markdown",
   "id": "e316a94b",
   "metadata": {
    "papermill": {
     "duration": 0.152012,
     "end_time": "2021-12-05T14:02:08.582851",
     "exception": false,
     "start_time": "2021-12-05T14:02:08.430839",
     "status": "completed"
    },
    "tags": []
   },
   "source": [
    "## Imports"
   ]
  },
  {
   "cell_type": "code",
   "execution_count": 2,
   "id": "bb7da704",
   "metadata": {
    "execution": {
     "iopub.execute_input": "2021-12-05T14:02:08.895133Z",
     "iopub.status.busy": "2021-12-05T14:02:08.894498Z",
     "iopub.status.idle": "2021-12-05T14:02:10.423018Z",
     "shell.execute_reply": "2021-12-05T14:02:10.422418Z",
     "shell.execute_reply.started": "2021-12-05T13:34:35.150958Z"
    },
    "id": "1bd0552c",
    "papermill": {
     "duration": 1.688202,
     "end_time": "2021-12-05T14:02:10.423206",
     "exception": false,
     "start_time": "2021-12-05T14:02:08.735004",
     "status": "completed"
    },
    "tags": []
   },
   "outputs": [
    {
     "data": {
      "text/html": [
       "<style type='text/css'>\n",
       ".datatable table.frame { margin-bottom: 0; }\n",
       ".datatable table.frame thead { border-bottom: none; }\n",
       ".datatable table.frame tr.coltypes td {  color: #FFFFFF;  line-height: 6px;  padding: 0 0.5em;}\n",
       ".datatable .bool    { background: #DDDD99; }\n",
       ".datatable .object  { background: #565656; }\n",
       ".datatable .int     { background: #5D9E5D; }\n",
       ".datatable .float   { background: #4040CC; }\n",
       ".datatable .str     { background: #CC4040; }\n",
       ".datatable .time    { background: #40CC40; }\n",
       ".datatable .row_index {  background: var(--jp-border-color3);  border-right: 1px solid var(--jp-border-color0);  color: var(--jp-ui-font-color3);  font-size: 9px;}\n",
       ".datatable .frame tbody td { text-align: left; }\n",
       ".datatable .frame tr.coltypes .row_index {  background: var(--jp-border-color0);}\n",
       ".datatable th:nth-child(2) { padding-left: 12px; }\n",
       ".datatable .hellipsis {  color: var(--jp-cell-editor-border-color);}\n",
       ".datatable .vellipsis {  background: var(--jp-layout-color0);  color: var(--jp-cell-editor-border-color);}\n",
       ".datatable .na {  color: var(--jp-cell-editor-border-color);  font-size: 80%;}\n",
       ".datatable .sp {  opacity: 0.25;}\n",
       ".datatable .footer { font-size: 9px; }\n",
       ".datatable .frame_dimensions {  background: var(--jp-border-color3);  border-top: 1px solid var(--jp-border-color0);  color: var(--jp-ui-font-color3);  display: inline-block;  opacity: 0.6;  padding: 1px 10px 1px 5px;}\n",
       ".datatable .frame thead tr.colnames {  background-image: url('data:image/png;base64,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');  background-repeat: repeat-x;  background-size: 14px;  height: 28px;}\n",
       "</style>\n"
      ],
      "text/plain": [
       "<IPython.core.display.HTML object>"
      ]
     },
     "metadata": {},
     "output_type": "display_data"
    }
   ],
   "source": [
    "import warnings\n",
    "import numpy as np \n",
    "import pandas as pd\n",
    "from abc import ABC, abstractmethod\n",
    "import matplotlib.pyplot as plt\n",
    "import seaborn as sns \n",
    "\n",
    "from sklearn.model_selection import train_test_split\n",
    "from sklearn.base import TransformerMixin, clone\n",
    "from sklearn.impute import SimpleImputer\n",
    "from sklearn.metrics import log_loss, make_scorer\n",
    "from sklearn.pipeline import Pipeline\n",
    "from sklearn.model_selection import cross_val_score, GridSearchCV\n",
    "from sklearn.feature_selection import f_classif, chi2, mutual_info_classif, SelectKBest, RFE, SelectFromModel\n",
    "from sklearn.preprocessing import StandardScaler, PolynomialFeatures\n",
    "from sklearn.linear_model import LogisticRegression\n",
    "from catboost import CatBoostClassifier\n",
    "from lightgbm import LGBMClassifier\n",
    "import xgboost as xgb\n",
    "from sklearn.neural_network import MLPClassifier\n",
    "warnings.filterwarnings(\"ignore\")"
   ]
  },
  {
   "cell_type": "markdown",
   "id": "250ac189",
   "metadata": {
    "papermill": {
     "duration": 0.151279,
     "end_time": "2021-12-05T14:02:10.726585",
     "exception": false,
     "start_time": "2021-12-05T14:02:10.575306",
     "status": "completed"
    },
    "tags": []
   },
   "source": [
    "## Functions and exp runnner"
   ]
  },
  {
   "cell_type": "code",
   "execution_count": 3,
   "id": "a4a83df6",
   "metadata": {
    "execution": {
     "iopub.execute_input": "2021-12-05T14:02:11.037747Z",
     "iopub.status.busy": "2021-12-05T14:02:11.037147Z",
     "iopub.status.idle": "2021-12-05T14:02:11.044827Z",
     "shell.execute_reply": "2021-12-05T14:02:11.045384Z",
     "shell.execute_reply.started": "2021-12-05T13:09:45.022990Z"
    },
    "papermill": {
     "duration": 0.165963,
     "end_time": "2021-12-05T14:02:11.045542",
     "exception": false,
     "start_time": "2021-12-05T14:02:10.879579",
     "status": "completed"
    },
    "tags": []
   },
   "outputs": [],
   "source": [
    "def preprocess_data(df_train, df_test, save=False):\n",
    "    \"\"\"\n",
    "    Preprocess data with basic transformations.\n",
    "    \"\"\"\n",
    "    df_train_c = df_train.copy()\n",
    "    df_test_c = df_test.copy()\n",
    "    df_test_c['insomnia'] = np.nan\n",
    "    df_train_c['is_train'] = 1\n",
    "    df_test_c['is_train'] = 0\n",
    "    dataset = pd.concat([df_train_c, df_test_c])\n",
    "    dataset['sex'] = dataset['sex'].map({2: 1, 1: 0})\n",
    "    if save:\n",
    "        print(f'Saving the dataset. Full shape: {dataset.shape}')\n",
    "        dataset.to_csv('dataset_nh.csv', index=False)\n",
    "        print(\"Dataset saved.\")\n",
    "    else:\n",
    "        return dataset.reset_index(drop=True)\n",
    "\n",
    "    \n",
    "def data_reader():\n",
    "    \"\"\"Data reader function.\"\"\"\n",
    "    path = 'dataset_nh.csv'\n",
    "    dataset = pd.read_csv(path)\n",
    "    return dataset\n",
    "\n",
    "\n",
    "def plot_pipelines_results(df_results):\n",
    "    plt.subplots(figsize=(18, 7))\n",
    "    ax = sns.scatterplot(data=df_results,\n",
    "                         y='pipeline',\n",
    "                         x='logloss',\n",
    "                         hue='dataset')\n",
    "    valid_values = list(df_results.query(\"dataset == 'validation'\").logloss)\n",
    "    ax.grid()\n",
    "    for v_ in valid_values:\n",
    "        ax.axvline(x=v_, alpha=0.25, color='red')\n",
    "    plt.show()"
   ]
  },
  {
   "cell_type": "code",
   "execution_count": 4,
   "id": "044b6320",
   "metadata": {
    "execution": {
     "iopub.execute_input": "2021-12-05T14:02:11.354394Z",
     "iopub.status.busy": "2021-12-05T14:02:11.353484Z",
     "iopub.status.idle": "2021-12-05T14:02:11.361456Z",
     "shell.execute_reply": "2021-12-05T14:02:11.361976Z",
     "shell.execute_reply.started": "2021-12-05T13:09:45.039210Z"
    },
    "papermill": {
     "duration": 0.165096,
     "end_time": "2021-12-05T14:02:11.362150",
     "exception": false,
     "start_time": "2021-12-05T14:02:11.197054",
     "status": "completed"
    },
    "tags": []
   },
   "outputs": [],
   "source": [
    "def split_dataset(dataset, split_instance):\n",
    "    \"\"\"\n",
    "    Split the dataset using a split instance which should has a\n",
    "    split method. Returns a dict with the split dataset.\n",
    "    \"\"\"\n",
    "    return split_instance.split(dataset)\n",
    "\n",
    "class Split(ABC):\n",
    "    \"\"\"Split dataset abstract class.\"\"\"\n",
    "\n",
    "    @abstractmethod\n",
    "    def split(self, dataset):\n",
    "        \"\"\"split method.\n",
    "\n",
    "        Should return the data splits.\n",
    "        \"\"\"\n",
    "        pass\n",
    "\n",
    "class SplitDefault(Split):\n",
    "    \"\"\"Split dataset into train, validation, full_train and test.\"\"\"\n",
    "\n",
    "    def __init__(self, split_col='is_train', target_col='insomnia'):\n",
    "        self._split_col = split_col\n",
    "        self._target_col = target_col\n",
    "\n",
    "    def split(self, dataset):\n",
    "        train_ix = dataset[dataset[self._split_col] == 1].index\n",
    "        test_ix = dataset[dataset[self._split_col] == 0].index\n",
    "\n",
    "        X_full_train = dataset.loc[train_ix].reset_index(drop=True)\n",
    "        y_full_train = X_full_train[self._target_col]\n",
    "        X_train, X_valid, y_train, y_valid = train_test_split(\n",
    "            X_full_train, y_full_train, train_size=0.7, random_state=42\n",
    "        )\n",
    "\n",
    "        X_test = dataset.loc[test_ix].reset_index(drop=True)\n",
    "\n",
    "        return {\n",
    "            'train': (X_train, y_train),\n",
    "            'validation': (X_valid, y_valid),\n",
    "            'full_train': (X_full_train, y_full_train),\n",
    "            'test': (X_test, X_test[self._target_col])\n",
    "        }"
   ]
  },
  {
   "cell_type": "code",
   "execution_count": 5,
   "id": "8a23c9a0",
   "metadata": {
    "execution": {
     "iopub.execute_input": "2021-12-05T14:02:11.667826Z",
     "iopub.status.busy": "2021-12-05T14:02:11.666848Z",
     "iopub.status.idle": "2021-12-05T14:02:11.683950Z",
     "shell.execute_reply": "2021-12-05T14:02:11.684446Z",
     "shell.execute_reply.started": "2021-12-05T13:46:34.851439Z"
    },
    "papermill": {
     "duration": 0.170698,
     "end_time": "2021-12-05T14:02:11.684601",
     "exception": false,
     "start_time": "2021-12-05T14:02:11.513903",
     "status": "completed"
    },
    "tags": []
   },
   "outputs": [],
   "source": [
    "def run_pipeline(X_train, y_train, X_test, y_test, pipeline):\n",
    "    \"\"\"\n",
    "    Run a specific pipeline in train and predict in test.\n",
    "    \"\"\"\n",
    "    pipeline.fit(X_train, y_train)\n",
    "    return (\n",
    "        pipeline.predict_proba(X_train), pipeline.predict_proba(X_test)\n",
    "    )\n",
    "\n",
    "\n",
    "def run_experiment(data_split, pipeline_func, f_name, basic_cols,\n",
    "                   grid_params=None):\n",
    "    \"\"\"\n",
    "    Run an experiment and calculate the logloss for train and valid set.\n",
    "    \"\"\"\n",
    "    X_train, y_train = (\n",
    "        data_split['train'][0][basic_cols], data_split['train'][1]\n",
    "    )\n",
    "    X_valid, y_valid = (\n",
    "        data_split['validation'][0][basic_cols], data_split['validation'][1]\n",
    "    )\n",
    "    pipeline = pipeline_func()\n",
    "    if grid_params:\n",
    "        train_ix = X_train.index.values\n",
    "        train_offset = train_ix[-1] + 1\n",
    "        val_ix = X_valid.index.values + train_offset\n",
    "\n",
    "        X_f = pd.concat([X_train, X_valid])\n",
    "        y_f = pd.concat([y_train, y_valid])\n",
    "\n",
    "        clf = GridSearchCV(\n",
    "            estimator=pipeline,\n",
    "            param_grid=grid_params,\n",
    "            cv=[(train_ix, val_ix)],\n",
    "            n_jobs=-1,\n",
    "            refit=False\n",
    "        )\n",
    "        clf.fit(X_f, y_f)\n",
    "        pipeline.set_params(**clf.best_params_)\n",
    "        print(f'Best parameters found are: {clf.best_params_}')\n",
    "\n",
    "    train_probs, valid_probs = run_pipeline(\n",
    "        X_train, y_train, X_valid, y_valid, pipeline\n",
    "    )\n",
    "    l_loss_train = log_loss(y_train, train_probs)\n",
    "    l_loss_valid = log_loss(y_valid, valid_probs)\n",
    "    return {'train': l_loss_train, 'validation': l_loss_valid}\n",
    "\n",
    "\n",
    "def experiments_runner(pipelines_to_run, split_instance, dataset=None,\n",
    "                       data_reader=None, grid_params=None, save_test_preds=False,\n",
    "                       skip_train_valid=False):\n",
    "    \"\"\"\n",
    "    Run a list of experimens using run_experiment function.\n",
    "    Save test predictions in order to make submissions\n",
    "    (if save_test_preds is True).\n",
    "    Return a dataframe with train and validation logloss\n",
    "    in order to compare them (if skip_train_valid is False).\n",
    "    \"\"\"\n",
    "    BASIC_COLS = [\n",
    "        'age', 'weight', 'height', 'sex', 'stress', 'doctor',\n",
    "        'sport', 'pernicious_1', 'pernicious_2', 'ubp', 'lbp'\n",
    "    ]\n",
    "    KEY_COL = ['id']\n",
    "    TARGET_COL = 'insomnia'\n",
    "\n",
    "    if data_reader:\n",
    "        dataset = data_reader()\n",
    "    else:\n",
    "        assert dataset is not None\n",
    "\n",
    "    data_split = split_dataset(dataset.copy(), split_instance)\n",
    "    train_valid_scores = {'pipeline': [], 'dataset': [], 'logloss': []}\n",
    "    if not skip_train_valid:\n",
    "        func_names = [pipe.__name__ for pipe in pipelines_to_run]\n",
    "        for f_name, pipeline_func in zip(func_names, pipelines_to_run):\n",
    "            print(f'Running {f_name}.')\n",
    "            f_name_scores = run_experiment(\n",
    "                data_split, pipeline_func, f_name, BASIC_COLS, grid_params\n",
    "            )\n",
    "            print(f'{f_name} run.')\n",
    "            train_valid_scores['pipeline']+=([f_name] * 2)\n",
    "            train_valid_scores['dataset'].append('train')\n",
    "            train_valid_scores['logloss'].append(f_name_scores['train'])\n",
    "            train_valid_scores['dataset'].append('validation')\n",
    "            train_valid_scores['logloss'].append(f_name_scores['validation'])\n",
    "    if save_test_preds:\n",
    "        assert len(pipelines_to_run) == 1\n",
    "        pipeline_func = pipelines_to_run[0]\n",
    "        pipeline = pipeline_func()\n",
    "        X_full_train, y_full_train = (\n",
    "            data_split['full_train'][0], data_split['full_train'][1]\n",
    "        )\n",
    "        X_test, y_test = (\n",
    "            data_split['test'][0], data_split['test'][1]\n",
    "        )\n",
    "        _, y_test_scores = run_pipeline(X_full_train[BASIC_COLS],\n",
    "                                        y_full_train,\n",
    "                                        X_test[BASIC_COLS],\n",
    "                                        y_test,\n",
    "                                        pipeline)\n",
    "        test_estimations = X_test[KEY_COL].copy()\n",
    "        test_estimations[TARGET_COL] = y_test_scores[:, 1]\n",
    "        path = f'test_submission_{pipeline_func.__name__}.csv'\n",
    "        test_estimations.to_csv(path, index=False)\n",
    "        print(f\"Test estimations saved. Path: {path}\")\n",
    "\n",
    "    return pd.DataFrame().from_dict(train_valid_scores)"
   ]
  },
  {
   "cell_type": "markdown",
   "id": "c1ab8390",
   "metadata": {
    "papermill": {
     "duration": 0.155331,
     "end_time": "2021-12-05T14:02:11.990287",
     "exception": false,
     "start_time": "2021-12-05T14:02:11.834956",
     "status": "completed"
    },
    "tags": []
   },
   "source": [
    "## Read an preprocess the data"
   ]
  },
  {
   "cell_type": "code",
   "execution_count": 6,
   "id": "86565961",
   "metadata": {
    "execution": {
     "iopub.execute_input": "2021-12-05T14:02:12.296850Z",
     "iopub.status.busy": "2021-12-05T14:02:12.296256Z",
     "iopub.status.idle": "2021-12-05T14:02:12.467170Z",
     "shell.execute_reply": "2021-12-05T14:02:12.466030Z",
     "shell.execute_reply.started": "2021-12-05T13:11:34.824160Z"
    },
    "id": "b276ecfd",
    "papermill": {
     "duration": 0.325027,
     "end_time": "2021-12-05T14:02:12.467340",
     "exception": false,
     "start_time": "2021-12-05T14:02:12.142313",
     "status": "completed"
    },
    "tags": []
   },
   "outputs": [],
   "source": [
    "# download datasets from local files\n",
    "\n",
    "df_train = pd.read_csv('../input/idao-2022-bootcamp-insomnia/TRAIN.csv')\n",
    "df_test = pd.read_csv('../input/idao-2022-bootcamp-insomnia/TEST.csv')"
   ]
  },
  {
   "cell_type": "code",
   "execution_count": 7,
   "id": "5db6653b",
   "metadata": {
    "execution": {
     "iopub.execute_input": "2021-12-05T14:02:12.773001Z",
     "iopub.status.busy": "2021-12-05T14:02:12.771117Z",
     "iopub.status.idle": "2021-12-05T14:02:12.822959Z",
     "shell.execute_reply": "2021-12-05T14:02:12.822436Z",
     "shell.execute_reply.started": "2021-12-05T13:11:35.048016Z"
    },
    "papermill": {
     "duration": 0.205489,
     "end_time": "2021-12-05T14:02:12.823125",
     "exception": false,
     "start_time": "2021-12-05T14:02:12.617636",
     "status": "completed"
    },
    "tags": []
   },
   "outputs": [],
   "source": [
    "dataset = preprocess_data(df_train, df_test)"
   ]
  },
  {
   "cell_type": "markdown",
   "id": "b997d9f8",
   "metadata": {
    "papermill": {
     "duration": 0.154711,
     "end_time": "2021-12-05T14:02:13.133826",
     "exception": false,
     "start_time": "2021-12-05T14:02:12.979115",
     "status": "completed"
    },
    "tags": []
   },
   "source": [
    "## Reproducible pipelines definition"
   ]
  },
  {
   "cell_type": "code",
   "execution_count": 8,
   "id": "8bda594a",
   "metadata": {
    "execution": {
     "iopub.execute_input": "2021-12-05T14:02:13.452219Z",
     "iopub.status.busy": "2021-12-05T14:02:13.451601Z",
     "iopub.status.idle": "2021-12-05T14:02:13.454199Z",
     "shell.execute_reply": "2021-12-05T14:02:13.453761Z",
     "shell.execute_reply.started": "2021-12-05T13:11:35.973958Z"
    },
    "papermill": {
     "duration": 0.159474,
     "end_time": "2021-12-05T14:02:13.454335",
     "exception": false,
     "start_time": "2021-12-05T14:02:13.294861",
     "status": "completed"
    },
    "tags": []
   },
   "outputs": [],
   "source": [
    "# Reproducible pipeline definition (better explicit and reproducible\n",
    "# than implicit and confusing)\n",
    "\n",
    "def pipeline_1():\n",
    "    return Pipeline([\n",
    "        ('imputer_', SimpleImputer()),\n",
    "        ('scaler_', StandardScaler()),\n",
    "        ('model_', LogisticRegression())\n",
    "    ])"
   ]
  },
  {
   "cell_type": "markdown",
   "id": "cc47f900",
   "metadata": {
    "papermill": {
     "duration": 0.151283,
     "end_time": "2021-12-05T14:02:13.755956",
     "exception": false,
     "start_time": "2021-12-05T14:02:13.604673",
     "status": "completed"
    },
    "tags": []
   },
   "source": [
    "## Run experiments using several pipelines"
   ]
  },
  {
   "cell_type": "code",
   "execution_count": 9,
   "id": "7a040358",
   "metadata": {
    "execution": {
     "iopub.execute_input": "2021-12-05T14:02:14.064832Z",
     "iopub.status.busy": "2021-12-05T14:02:14.064199Z",
     "iopub.status.idle": "2021-12-05T14:02:14.267398Z",
     "shell.execute_reply": "2021-12-05T14:02:14.268356Z",
     "shell.execute_reply.started": "2021-12-05T13:11:40.524888Z"
    },
    "papermill": {
     "duration": 0.361736,
     "end_time": "2021-12-05T14:02:14.268623",
     "exception": false,
     "start_time": "2021-12-05T14:02:13.906887",
     "status": "completed"
    },
    "tags": []
   },
   "outputs": [
    {
     "name": "stdout",
     "output_type": "stream",
     "text": [
      "Running pipeline_1.\n",
      "pipeline_1 run.\n"
     ]
    }
   ],
   "source": [
    "df_baseline = experiments_runner(\n",
    "    pipelines_to_run=[pipeline_1],\n",
    "    split_instance=SplitDefault(),\n",
    "    dataset=dataset\n",
    ")"
   ]
  },
  {
   "cell_type": "markdown",
   "id": "6f64e0ab",
   "metadata": {
    "papermill": {
     "duration": 0.151738,
     "end_time": "2021-12-05T14:02:14.614695",
     "exception": false,
     "start_time": "2021-12-05T14:02:14.462957",
     "status": "completed"
    },
    "tags": []
   },
   "source": [
    "#### We will make the first submission, our baseline:"
   ]
  },
  {
   "cell_type": "code",
   "execution_count": 10,
   "id": "96378147",
   "metadata": {
    "execution": {
     "iopub.execute_input": "2021-12-05T14:02:14.960268Z",
     "iopub.status.busy": "2021-12-05T14:02:14.959570Z",
     "iopub.status.idle": "2021-12-05T14:02:15.367417Z",
     "shell.execute_reply": "2021-12-05T14:02:15.368023Z"
    },
    "papermill": {
     "duration": 0.572585,
     "end_time": "2021-12-05T14:02:15.368270",
     "exception": false,
     "start_time": "2021-12-05T14:02:14.795685",
     "status": "completed"
    },
    "tags": []
   },
   "outputs": [
    {
     "name": "stdout",
     "output_type": "stream",
     "text": [
      "Test estimations saved. Path: test_submission_pipeline_1.csv\n"
     ]
    },
    {
     "data": {
      "text/html": [
       "<div>\n",
       "<style scoped>\n",
       "    .dataframe tbody tr th:only-of-type {\n",
       "        vertical-align: middle;\n",
       "    }\n",
       "\n",
       "    .dataframe tbody tr th {\n",
       "        vertical-align: top;\n",
       "    }\n",
       "\n",
       "    .dataframe thead th {\n",
       "        text-align: right;\n",
       "    }\n",
       "</style>\n",
       "<table border=\"1\" class=\"dataframe\">\n",
       "  <thead>\n",
       "    <tr style=\"text-align: right;\">\n",
       "      <th></th>\n",
       "      <th>pipeline</th>\n",
       "      <th>dataset</th>\n",
       "      <th>logloss</th>\n",
       "    </tr>\n",
       "  </thead>\n",
       "  <tbody>\n",
       "  </tbody>\n",
       "</table>\n",
       "</div>"
      ],
      "text/plain": [
       "Empty DataFrame\n",
       "Columns: [pipeline, dataset, logloss]\n",
       "Index: []"
      ]
     },
     "execution_count": 10,
     "metadata": {},
     "output_type": "execute_result"
    }
   ],
   "source": [
    "experiments_runner(\n",
    "    pipelines_to_run=[pipeline_1], \n",
    "    split_instance=SplitDefault(), \n",
    "    dataset=dataset, \n",
    "    save_test_preds=True, \n",
    "    skip_train_valid=True\n",
    ")"
   ]
  },
  {
   "cell_type": "markdown",
   "id": "44305d6b",
   "metadata": {
    "papermill": {
     "duration": 0.15156,
     "end_time": "2021-12-05T14:02:15.683970",
     "exception": false,
     "start_time": "2021-12-05T14:02:15.532410",
     "status": "completed"
    },
    "tags": []
   },
   "source": [
    "#### Let's try other pipelines:"
   ]
  },
  {
   "cell_type": "code",
   "execution_count": 11,
   "id": "13308f69",
   "metadata": {
    "execution": {
     "iopub.execute_input": "2021-12-05T14:02:15.998341Z",
     "iopub.status.busy": "2021-12-05T14:02:15.997597Z",
     "iopub.status.idle": "2021-12-05T14:02:15.999467Z",
     "shell.execute_reply": "2021-12-05T14:02:15.999970Z",
     "shell.execute_reply.started": "2021-12-05T13:11:42.720391Z"
    },
    "papermill": {
     "duration": 0.164534,
     "end_time": "2021-12-05T14:02:16.000163",
     "exception": false,
     "start_time": "2021-12-05T14:02:15.835629",
     "status": "completed"
    },
    "tags": []
   },
   "outputs": [],
   "source": [
    "# Reproducible pipeline definition (better explicit and reproducible\n",
    "# than implicit and confusing)\n",
    "\n",
    "def pipeline_2():\n",
    "    return Pipeline([\n",
    "        ('imputer_', SimpleImputer()),\n",
    "        ('poly_featurizer_', PolynomialFeatures(degree=4)),\n",
    "        ('scaler_', StandardScaler()),\n",
    "        ('model_', LogisticRegression())\n",
    "    ])\n",
    "\n",
    "def pipeline_3():\n",
    "    return Pipeline([\n",
    "        ('imputer_', SimpleImputer()),\n",
    "        ('poly_featurizer_', PolynomialFeatures(degree=3)),\n",
    "        ('scaler_', StandardScaler()),\n",
    "        ('model_', LogisticRegression())\n",
    "    ])\n",
    "\n",
    "def pipeline_4():\n",
    "    return Pipeline([\n",
    "        ('imputer_', SimpleImputer()),\n",
    "        ('poly_featurizer_', PolynomialFeatures(degree=6)),\n",
    "        ('scaler_', StandardScaler()),\n",
    "        ('model_', LogisticRegression())\n",
    "    ])\n",
    "\n",
    "def pipeline_5():\n",
    "    return Pipeline([\n",
    "        ('imputer_', SimpleImputer()),\n",
    "        ('poly_featurizer_', PolynomialFeatures(degree=2)),\n",
    "        ('scaler_', StandardScaler()),\n",
    "        ('model_', LogisticRegression())\n",
    "    ])\n",
    "\n",
    "def pipeline_6():\n",
    "    return Pipeline([\n",
    "        ('imputer_', SimpleImputer()),\n",
    "        ('poly_featurizer_', PolynomialFeatures(degree=1)),\n",
    "        ('scaler_', StandardScaler()),\n",
    "        ('model_', LogisticRegression())\n",
    "    ])"
   ]
  },
  {
   "cell_type": "code",
   "execution_count": 12,
   "id": "2ee1d691",
   "metadata": {
    "execution": {
     "iopub.execute_input": "2021-12-05T14:02:16.319262Z",
     "iopub.status.busy": "2021-12-05T14:02:16.318389Z",
     "iopub.status.idle": "2021-12-05T14:03:47.257993Z",
     "shell.execute_reply": "2021-12-05T14:03:47.259379Z",
     "shell.execute_reply.started": "2021-12-05T13:11:45.792194Z"
    },
    "papermill": {
     "duration": 91.099437,
     "end_time": "2021-12-05T14:03:47.259829",
     "exception": false,
     "start_time": "2021-12-05T14:02:16.160392",
     "status": "completed"
    },
    "tags": []
   },
   "outputs": [
    {
     "name": "stdout",
     "output_type": "stream",
     "text": [
      "Running pipeline_2.\n",
      "pipeline_2 run.\n",
      "Running pipeline_3.\n",
      "pipeline_3 run.\n",
      "Running pipeline_4.\n",
      "pipeline_4 run.\n",
      "Running pipeline_5.\n",
      "pipeline_5 run.\n",
      "Running pipeline_6.\n",
      "pipeline_6 run.\n"
     ]
    }
   ],
   "source": [
    "results_df_scd_wave = experiments_runner(\n",
    "    pipelines_to_run=[pipeline_2, pipeline_3, pipeline_4,\n",
    "                      pipeline_5, pipeline_6],\n",
    "    split_instance=SplitDefault(),\n",
    "    dataset=dataset\n",
    ")"
   ]
  },
  {
   "cell_type": "code",
   "execution_count": 13,
   "id": "cbf7b63f",
   "metadata": {
    "execution": {
     "iopub.execute_input": "2021-12-05T14:03:47.617859Z",
     "iopub.status.busy": "2021-12-05T14:03:47.617225Z",
     "iopub.status.idle": "2021-12-05T14:03:47.620866Z",
     "shell.execute_reply": "2021-12-05T14:03:47.620423Z",
     "shell.execute_reply.started": "2021-12-05T13:13:21.481715Z"
    },
    "papermill": {
     "duration": 0.164434,
     "end_time": "2021-12-05T14:03:47.620998",
     "exception": false,
     "start_time": "2021-12-05T14:03:47.456564",
     "status": "completed"
    },
    "tags": []
   },
   "outputs": [],
   "source": [
    "results_df_scd_wave = pd.concat([results_df_scd_wave,\n",
    "                                 df_baseline]).sort_values('pipeline')"
   ]
  },
  {
   "cell_type": "code",
   "execution_count": 14,
   "id": "683144a6",
   "metadata": {
    "execution": {
     "iopub.execute_input": "2021-12-05T14:03:47.938541Z",
     "iopub.status.busy": "2021-12-05T14:03:47.933595Z",
     "iopub.status.idle": "2021-12-05T14:03:48.284651Z",
     "shell.execute_reply": "2021-12-05T14:03:48.285104Z",
     "shell.execute_reply.started": "2021-12-05T13:13:21.493979Z"
    },
    "papermill": {
     "duration": 0.508826,
     "end_time": "2021-12-05T14:03:48.285266",
     "exception": false,
     "start_time": "2021-12-05T14:03:47.776440",
     "status": "completed"
    },
    "tags": []
   },
   "outputs": [
    {
     "data": {
      "image/png": "[encoded data removed]",
      "text/plain": [
       "<Figure size 1296x504 with 1 Axes>"
      ]
     },
     "metadata": {
      "needs_background": "light"
     },
     "output_type": "display_data"
    }
   ],
   "source": [
    "plot_pipelines_results(results_df_scd_wave)"
   ]
  },
  {
   "cell_type": "markdown",
   "id": "1fc3c2a9",
   "metadata": {
    "papermill": {
     "duration": 0.168083,
     "end_time": "2021-12-05T14:03:48.624573",
     "exception": false,
     "start_time": "2021-12-05T14:03:48.456490",
     "status": "completed"
    },
    "tags": []
   },
   "source": [
    "Let's try feature elimination with 3 and 5"
   ]
  },
  {
   "cell_type": "code",
   "execution_count": 15,
   "id": "f9726257",
   "metadata": {
    "execution": {
     "iopub.execute_input": "2021-12-05T14:03:48.974090Z",
     "iopub.status.busy": "2021-12-05T14:03:48.973129Z",
     "iopub.status.idle": "2021-12-05T14:03:48.978947Z",
     "shell.execute_reply": "2021-12-05T14:03:48.979519Z",
     "shell.execute_reply.started": "2021-12-05T13:13:21.951709Z"
    },
    "papermill": {
     "duration": 0.184235,
     "end_time": "2021-12-05T14:03:48.979677",
     "exception": false,
     "start_time": "2021-12-05T14:03:48.795442",
     "status": "completed"
    },
    "tags": []
   },
   "outputs": [],
   "source": [
    "# Reproducible pipeline definition (better explicit and reproducible\n",
    "# than implicit and confusing)\n",
    "\n",
    "def pipeline_7():\n",
    "    return Pipeline([\n",
    "        ('imputer_', SimpleImputer()),\n",
    "        ('poly_featurizer_', PolynomialFeatures(degree=3)),\n",
    "        ('scaler_', StandardScaler()),\n",
    "        ('selector_', SelectKBest(score_func=mutual_info_classif, k=8)),\n",
    "        ('model_', LogisticRegression())\n",
    "    ])\n",
    "\n",
    "def pipeline_8():\n",
    "    return Pipeline([\n",
    "        ('imputer_', SimpleImputer()),\n",
    "        ('poly_featurizer_', PolynomialFeatures(degree=2)),\n",
    "        ('scaler_', StandardScaler()),\n",
    "        ('selector_', SelectKBest(score_func=mutual_info_classif, k=4)),\n",
    "        ('model_', LogisticRegression())\n",
    "    ])"
   ]
  },
  {
   "cell_type": "code",
   "execution_count": 16,
   "id": "a197fbf8",
   "metadata": {
    "execution": {
     "iopub.execute_input": "2021-12-05T14:03:49.301804Z",
     "iopub.status.busy": "2021-12-05T14:03:49.300616Z",
     "iopub.status.idle": "2021-12-05T14:05:37.002483Z",
     "shell.execute_reply": "2021-12-05T14:05:37.003426Z",
     "shell.execute_reply.started": "2021-12-05T13:13:21.961742Z"
    },
    "papermill": {
     "duration": 107.864292,
     "end_time": "2021-12-05T14:05:37.003692",
     "exception": false,
     "start_time": "2021-12-05T14:03:49.139400",
     "status": "completed"
    },
    "tags": []
   },
   "outputs": [
    {
     "name": "stdout",
     "output_type": "stream",
     "text": [
      "Running pipeline_7.\n",
      "pipeline_7 run.\n",
      "Running pipeline_8.\n",
      "pipeline_8 run.\n"
     ]
    }
   ],
   "source": [
    "results_df_thr_wave = experiments_runner(\n",
    "    pipelines_to_run=[pipeline_7, pipeline_8],\n",
    "    split_instance=SplitDefault(),\n",
    "    dataset=dataset\n",
    ")"
   ]
  },
  {
   "cell_type": "code",
   "execution_count": 17,
   "id": "644d0343",
   "metadata": {
    "execution": {
     "iopub.execute_input": "2021-12-05T14:05:37.363307Z",
     "iopub.status.busy": "2021-12-05T14:05:37.362731Z",
     "iopub.status.idle": "2021-12-05T14:05:37.364751Z",
     "shell.execute_reply": "2021-12-05T14:05:37.365221Z",
     "shell.execute_reply.started": "2021-12-05T13:15:11.448749Z"
    },
    "papermill": {
     "duration": 0.16361,
     "end_time": "2021-12-05T14:05:37.365378",
     "exception": false,
     "start_time": "2021-12-05T14:05:37.201768",
     "status": "completed"
    },
    "tags": []
   },
   "outputs": [],
   "source": [
    "results_df_thr_wave = pd.concat([results_df_thr_wave,\n",
    "                                 results_df_scd_wave]).sort_values('pipeline')"
   ]
  },
  {
   "cell_type": "code",
   "execution_count": 18,
   "id": "438f0ee1",
   "metadata": {
    "execution": {
     "iopub.execute_input": "2021-12-05T14:05:37.678896Z",
     "iopub.status.busy": "2021-12-05T14:05:37.678343Z",
     "iopub.status.idle": "2021-12-05T14:05:37.918359Z",
     "shell.execute_reply": "2021-12-05T14:05:37.917794Z",
     "shell.execute_reply.started": "2021-12-05T13:15:11.459819Z"
    },
    "papermill": {
     "duration": 0.397953,
     "end_time": "2021-12-05T14:05:37.918497",
     "exception": false,
     "start_time": "2021-12-05T14:05:37.520544",
     "status": "completed"
    },
    "tags": []
   },
   "outputs": [
    {
     "data": {
      "image/png": "[encoded data removed]",
      "text/plain": [
       "<Figure size 1296x504 with 1 Axes>"
      ]
     },
     "metadata": {
      "needs_background": "light"
     },
     "output_type": "display_data"
    }
   ],
   "source": [
    "plot_pipelines_results(results_df_thr_wave)"
   ]
  },
  {
   "cell_type": "markdown",
   "id": "fea13337",
   "metadata": {
    "papermill": {
     "duration": 0.156084,
     "end_time": "2021-12-05T14:05:38.230346",
     "exception": false,
     "start_time": "2021-12-05T14:05:38.074262",
     "status": "completed"
    },
    "tags": []
   },
   "source": [
    "Worst results."
   ]
  },
  {
   "cell_type": "code",
   "execution_count": 19,
   "id": "13699f04",
   "metadata": {
    "execution": {
     "iopub.execute_input": "2021-12-05T14:05:38.544195Z",
     "iopub.status.busy": "2021-12-05T14:05:38.543616Z",
     "iopub.status.idle": "2021-12-05T14:05:38.548579Z",
     "shell.execute_reply": "2021-12-05T14:05:38.548134Z",
     "shell.execute_reply.started": "2021-12-05T13:15:11.840009Z"
    },
    "papermill": {
     "duration": 0.162399,
     "end_time": "2021-12-05T14:05:38.548712",
     "exception": false,
     "start_time": "2021-12-05T14:05:38.386313",
     "status": "completed"
    },
    "tags": []
   },
   "outputs": [],
   "source": [
    "def pipeline_9():\n",
    "    return Pipeline([\n",
    "        ('imputer_', SimpleImputer()),\n",
    "        ('poly_featurizer_', PolynomialFeatures(degree=3)),\n",
    "        ('scaler_', StandardScaler()),\n",
    "        ('selector_', RFE(LogisticRegression(max_iter=1000),\n",
    "                              n_features_to_select=20,\n",
    "                              step=30\n",
    "                             )),\n",
    "        ('model_', LogisticRegression())\n",
    "    ])"
   ]
  },
  {
   "cell_type": "code",
   "execution_count": 20,
   "id": "ae4ed111",
   "metadata": {
    "execution": {
     "iopub.execute_input": "2021-12-05T14:05:38.866989Z",
     "iopub.status.busy": "2021-12-05T14:05:38.866403Z",
     "iopub.status.idle": "2021-12-05T14:08:23.498989Z",
     "shell.execute_reply": "2021-12-05T14:08:23.499521Z",
     "shell.execute_reply.started": "2021-12-05T13:15:11.849129Z"
    },
    "papermill": {
     "duration": 164.794777,
     "end_time": "2021-12-05T14:08:23.499703",
     "exception": false,
     "start_time": "2021-12-05T14:05:38.704926",
     "status": "completed"
    },
    "tags": []
   },
   "outputs": [
    {
     "name": "stdout",
     "output_type": "stream",
     "text": [
      "Running pipeline_9.\n",
      "pipeline_9 run.\n"
     ]
    }
   ],
   "source": [
    "results_df_frd_wave = experiments_runner(\n",
    "    pipelines_to_run=[pipeline_9],\n",
    "    split_instance=SplitDefault(),\n",
    "    dataset=dataset\n",
    ")"
   ]
  },
  {
   "cell_type": "code",
   "execution_count": 21,
   "id": "151b7712",
   "metadata": {
    "execution": {
     "iopub.execute_input": "2021-12-05T14:08:23.816669Z",
     "iopub.status.busy": "2021-12-05T14:08:23.815932Z",
     "iopub.status.idle": "2021-12-05T14:08:23.819118Z",
     "shell.execute_reply": "2021-12-05T14:08:23.819585Z",
     "shell.execute_reply.started": "2021-12-05T13:18:10.080835Z"
    },
    "papermill": {
     "duration": 0.164075,
     "end_time": "2021-12-05T14:08:23.819744",
     "exception": false,
     "start_time": "2021-12-05T14:08:23.655669",
     "status": "completed"
    },
    "tags": []
   },
   "outputs": [],
   "source": [
    "results_df_frd_wave = pd.concat([results_df_frd_wave,\n",
    "                                 results_df_thr_wave]).sort_values('pipeline')"
   ]
  },
  {
   "cell_type": "code",
   "execution_count": 22,
   "id": "1f16cfda",
   "metadata": {
    "execution": {
     "iopub.execute_input": "2021-12-05T14:08:24.137827Z",
     "iopub.status.busy": "2021-12-05T14:08:24.137251Z",
     "iopub.status.idle": "2021-12-05T14:08:24.422489Z",
     "shell.execute_reply": "2021-12-05T14:08:24.422973Z",
     "shell.execute_reply.started": "2021-12-05T13:18:10.094663Z"
    },
    "papermill": {
     "duration": 0.445737,
     "end_time": "2021-12-05T14:08:24.423178",
     "exception": false,
     "start_time": "2021-12-05T14:08:23.977441",
     "status": "completed"
    },
    "tags": []
   },
   "outputs": [
    {
     "data": {
      "image/png": "[encoded data removed]",
      "text/plain": [
       "<Figure size 1296x504 with 1 Axes>"
      ]
     },
     "metadata": {
      "needs_background": "light"
     },
     "output_type": "display_data"
    }
   ],
   "source": [
    "plot_pipelines_results(results_df_frd_wave)"
   ]
  },
  {
   "cell_type": "code",
   "execution_count": 23,
   "id": "7369dc9b",
   "metadata": {
    "execution": {
     "iopub.execute_input": "2021-12-05T14:08:24.749491Z",
     "iopub.status.busy": "2021-12-05T14:08:24.748560Z",
     "iopub.status.idle": "2021-12-05T14:08:24.753223Z",
     "shell.execute_reply": "2021-12-05T14:08:24.753727Z",
     "shell.execute_reply.started": "2021-12-05T13:18:10.500775Z"
    },
    "papermill": {
     "duration": 0.168533,
     "end_time": "2021-12-05T14:08:24.753895",
     "exception": false,
     "start_time": "2021-12-05T14:08:24.585362",
     "status": "completed"
    },
    "tags": []
   },
   "outputs": [],
   "source": [
    "def pipeline_10():\n",
    "    return Pipeline([\n",
    "        ('imputer_', SimpleImputer()),\n",
    "        ('poly_featurizer_', PolynomialFeatures(degree=3)),\n",
    "        ('scaler_', StandardScaler()),\n",
    "        ('selector_', RFE(LogisticRegression(max_iter=200),\n",
    "                              n_features_to_select=10,\n",
    "                              step=20\n",
    "                             )),\n",
    "        ('model_', LogisticRegression())\n",
    "    ])"
   ]
  },
  {
   "cell_type": "code",
   "execution_count": 24,
   "id": "cc48c9c8",
   "metadata": {
    "execution": {
     "iopub.execute_input": "2021-12-05T14:08:25.086871Z",
     "iopub.status.busy": "2021-12-05T14:08:25.085886Z",
     "iopub.status.idle": "2021-12-05T14:09:23.084392Z",
     "shell.execute_reply": "2021-12-05T14:09:23.085225Z",
     "shell.execute_reply.started": "2021-12-05T13:18:10.509508Z"
    },
    "papermill": {
     "duration": 58.167294,
     "end_time": "2021-12-05T14:09:23.085605",
     "exception": false,
     "start_time": "2021-12-05T14:08:24.918311",
     "status": "completed"
    },
    "tags": []
   },
   "outputs": [
    {
     "name": "stdout",
     "output_type": "stream",
     "text": [
      "Running pipeline_10.\n",
      "pipeline_10 run.\n"
     ]
    }
   ],
   "source": [
    "results_df_5_wave = experiments_runner(\n",
    "    pipelines_to_run=[pipeline_10],\n",
    "    split_instance=SplitDefault(),\n",
    "    dataset=dataset\n",
    ")"
   ]
  },
  {
   "cell_type": "code",
   "execution_count": 25,
   "id": "ff8731f1",
   "metadata": {
    "execution": {
     "iopub.execute_input": "2021-12-05T14:09:23.413040Z",
     "iopub.status.busy": "2021-12-05T14:09:23.412421Z",
     "iopub.status.idle": "2021-12-05T14:09:23.756488Z",
     "shell.execute_reply": "2021-12-05T14:09:23.757760Z",
     "shell.execute_reply.started": "2021-12-05T13:19:09.262951Z"
    },
    "papermill": {
     "duration": 0.512297,
     "end_time": "2021-12-05T14:09:23.758018",
     "exception": false,
     "start_time": "2021-12-05T14:09:23.245721",
     "status": "completed"
    },
    "tags": []
   },
   "outputs": [
    {
     "data": {
      "image/png": "[encoded data removed]",
      "text/plain": [
       "<Figure size 1296x504 with 1 Axes>"
      ]
     },
     "metadata": {
      "needs_background": "light"
     },
     "output_type": "display_data"
    }
   ],
   "source": [
    "results_df_5_wave = pd.concat([results_df_frd_wave,\n",
    "                                 results_df_5_wave]).sort_values('pipeline')\n",
    "plot_pipelines_results(results_df_5_wave)"
   ]
  },
  {
   "cell_type": "code",
   "execution_count": 26,
   "id": "ffc06b66",
   "metadata": {
    "execution": {
     "iopub.execute_input": "2021-12-05T14:09:24.099571Z",
     "iopub.status.busy": "2021-12-05T14:09:24.098770Z",
     "iopub.status.idle": "2021-12-05T14:09:24.101120Z",
     "shell.execute_reply": "2021-12-05T14:09:24.101616Z",
     "shell.execute_reply.started": "2021-12-05T13:19:09.680729Z"
    },
    "papermill": {
     "duration": 0.171924,
     "end_time": "2021-12-05T14:09:24.101774",
     "exception": false,
     "start_time": "2021-12-05T14:09:23.929850",
     "status": "completed"
    },
    "tags": []
   },
   "outputs": [],
   "source": [
    "def pipeline_11():\n",
    "    return Pipeline([\n",
    "        ('imputer_', SimpleImputer()),\n",
    "        ('poly_featurizer_', PolynomialFeatures(degree=3)),\n",
    "        ('scaler_', StandardScaler()),\n",
    "        ('model_', CatBoostClassifier(silent=True,\n",
    "                                      random_seed=77,\n",
    "                                      loss_function='Logloss'))\n",
    "    ])\n",
    "\n",
    "def pipeline_12():\n",
    "    return Pipeline([\n",
    "        ('imputer_', SimpleImputer()),\n",
    "        ('scaler_', StandardScaler()),\n",
    "        ('model_', CatBoostClassifier(silent=True,\n",
    "                                      random_seed=77,\n",
    "                                      loss_function='Logloss'))\n",
    "    ])\n",
    "\n",
    "def pipeline_13():\n",
    "    return Pipeline([\n",
    "        ('model_', CatBoostClassifier(silent=True,\n",
    "                                      random_seed=77,\n",
    "                                      loss_function='Logloss'))\n",
    "    ])\n",
    "\n",
    "def pipeline_14():\n",
    "    return Pipeline([\n",
    "        ('scaler_', StandardScaler()),\n",
    "        ('model_', CatBoostClassifier(silent=True,\n",
    "                                      random_seed=77,\n",
    "                                      loss_function='Logloss'))\n",
    "    ])\n",
    "\n",
    "def pipeline_15():\n",
    "    return Pipeline([\n",
    "        ('imputer_', SimpleImputer()),\n",
    "        ('model_', CatBoostClassifier(silent=True,\n",
    "                                      random_seed=77,\n",
    "                                      loss_function='Logloss'))\n",
    "    ])"
   ]
  },
  {
   "cell_type": "code",
   "execution_count": 27,
   "id": "5c300c64",
   "metadata": {
    "execution": {
     "iopub.execute_input": "2021-12-05T14:09:24.426142Z",
     "iopub.status.busy": "2021-12-05T14:09:24.425231Z",
     "iopub.status.idle": "2021-12-05T14:11:07.009056Z",
     "shell.execute_reply": "2021-12-05T14:11:07.009694Z",
     "shell.execute_reply.started": "2021-12-05T13:19:09.693567Z"
    },
    "papermill": {
     "duration": 102.746301,
     "end_time": "2021-12-05T14:11:07.009878",
     "exception": false,
     "start_time": "2021-12-05T14:09:24.263577",
     "status": "completed"
    },
    "tags": []
   },
   "outputs": [
    {
     "name": "stdout",
     "output_type": "stream",
     "text": [
      "Running pipeline_11.\n",
      "pipeline_11 run.\n",
      "Running pipeline_12.\n",
      "pipeline_12 run.\n",
      "Running pipeline_13.\n",
      "pipeline_13 run.\n",
      "Running pipeline_14.\n",
      "pipeline_14 run.\n",
      "Running pipeline_15.\n",
      "pipeline_15 run.\n"
     ]
    }
   ],
   "source": [
    "results_df_6_wave = experiments_runner(\n",
    "    pipelines_to_run=[pipeline_11, pipeline_12, pipeline_13,\n",
    "                      pipeline_14, pipeline_15],\n",
    "    split_instance=SplitDefault(),\n",
    "    dataset=dataset\n",
    ")"
   ]
  },
  {
   "cell_type": "code",
   "execution_count": 28,
   "id": "419cb64a",
   "metadata": {
    "execution": {
     "iopub.execute_input": "2021-12-05T14:11:07.352527Z",
     "iopub.status.busy": "2021-12-05T14:11:07.350985Z",
     "iopub.status.idle": "2021-12-05T14:11:07.691963Z",
     "shell.execute_reply": "2021-12-05T14:11:07.691514Z",
     "shell.execute_reply.started": "2021-12-05T13:21:04.281746Z"
    },
    "papermill": {
     "duration": 0.520209,
     "end_time": "2021-12-05T14:11:07.692121",
     "exception": false,
     "start_time": "2021-12-05T14:11:07.171912",
     "status": "completed"
    },
    "tags": []
   },
   "outputs": [
    {
     "data": {
      "image/png": "[encoded data removed]",
      "text/plain": [
       "<Figure size 1296x504 with 1 Axes>"
      ]
     },
     "metadata": {
      "needs_background": "light"
     },
     "output_type": "display_data"
    }
   ],
   "source": [
    "results_df_6_wave = pd.concat([results_df_5_wave,\n",
    "                               results_df_6_wave]).sort_values('pipeline')\n",
    "plot_pipelines_results(results_df_6_wave)"
   ]
  },
  {
   "cell_type": "markdown",
   "id": "52d51fb5",
   "metadata": {
    "papermill": {
     "duration": 0.161497,
     "end_time": "2021-12-05T14:11:08.019562",
     "exception": false,
     "start_time": "2021-12-05T14:11:07.858065",
     "status": "completed"
    },
    "tags": []
   },
   "source": [
    "pipeline_12 is for now the winner...but maybe is quite overfitted..."
   ]
  },
  {
   "cell_type": "code",
   "execution_count": 29,
   "id": "fb0acbf0",
   "metadata": {
    "execution": {
     "iopub.execute_input": "2021-12-05T14:11:08.347924Z",
     "iopub.status.busy": "2021-12-05T14:11:08.347326Z",
     "iopub.status.idle": "2021-12-05T14:11:18.349739Z",
     "shell.execute_reply": "2021-12-05T14:11:18.349307Z",
     "shell.execute_reply.started": "2021-12-05T13:21:04.687464Z"
    },
    "papermill": {
     "duration": 10.167337,
     "end_time": "2021-12-05T14:11:18.349872",
     "exception": false,
     "start_time": "2021-12-05T14:11:08.182535",
     "status": "completed"
    },
    "tags": []
   },
   "outputs": [
    {
     "name": "stdout",
     "output_type": "stream",
     "text": [
      "Test estimations saved. Path: test_submission_pipeline_12.csv\n"
     ]
    },
    {
     "data": {
      "text/html": [
       "<div>\n",
       "<style scoped>\n",
       "    .dataframe tbody tr th:only-of-type {\n",
       "        vertical-align: middle;\n",
       "    }\n",
       "\n",
       "    .dataframe tbody tr th {\n",
       "        vertical-align: top;\n",
       "    }\n",
       "\n",
       "    .dataframe thead th {\n",
       "        text-align: right;\n",
       "    }\n",
       "</style>\n",
       "<table border=\"1\" class=\"dataframe\">\n",
       "  <thead>\n",
       "    <tr style=\"text-align: right;\">\n",
       "      <th></th>\n",
       "      <th>pipeline</th>\n",
       "      <th>dataset</th>\n",
       "      <th>logloss</th>\n",
       "    </tr>\n",
       "  </thead>\n",
       "  <tbody>\n",
       "  </tbody>\n",
       "</table>\n",
       "</div>"
      ],
      "text/plain": [
       "Empty DataFrame\n",
       "Columns: [pipeline, dataset, logloss]\n",
       "Index: []"
      ]
     },
     "execution_count": 29,
     "metadata": {},
     "output_type": "execute_result"
    }
   ],
   "source": [
    "experiments_runner(\n",
    "    pipelines_to_run=[pipeline_12],\n",
    "    split_instance=SplitDefault(),\n",
    "    dataset=dataset,\n",
    "    save_test_preds=True,\n",
    "    skip_train_valid=True\n",
    ")"
   ]
  },
  {
   "cell_type": "code",
   "execution_count": 30,
   "id": "421fa27b",
   "metadata": {
    "execution": {
     "iopub.execute_input": "2021-12-05T14:11:18.681658Z",
     "iopub.status.busy": "2021-12-05T14:11:18.680763Z",
     "iopub.status.idle": "2021-12-05T14:11:18.684303Z",
     "shell.execute_reply": "2021-12-05T14:11:18.684798Z",
     "shell.execute_reply.started": "2021-12-05T13:38:42.969983Z"
    },
    "papermill": {
     "duration": 0.169231,
     "end_time": "2021-12-05T14:11:18.684954",
     "exception": false,
     "start_time": "2021-12-05T14:11:18.515723",
     "status": "completed"
    },
    "tags": []
   },
   "outputs": [],
   "source": [
    "def pipeline_16():\n",
    "    return Pipeline([\n",
    "        ('imputer_', SimpleImputer()),\n",
    "        ('scaler_', StandardScaler()),\n",
    "        ('model_', MLPClassifier(random_state=77))\n",
    "    ])"
   ]
  },
  {
   "cell_type": "code",
   "execution_count": 31,
   "id": "833b1305",
   "metadata": {
    "execution": {
     "iopub.execute_input": "2021-12-05T14:11:19.010384Z",
     "iopub.status.busy": "2021-12-05T14:11:19.009784Z",
     "iopub.status.idle": "2021-12-05T14:12:12.218617Z",
     "shell.execute_reply": "2021-12-05T14:12:12.219388Z",
     "shell.execute_reply.started": "2021-12-05T13:21:15.295143Z"
    },
    "papermill": {
     "duration": 53.373119,
     "end_time": "2021-12-05T14:12:12.219623",
     "exception": false,
     "start_time": "2021-12-05T14:11:18.846504",
     "status": "completed"
    },
    "tags": []
   },
   "outputs": [
    {
     "name": "stdout",
     "output_type": "stream",
     "text": [
      "Running pipeline_16.\n",
      "pipeline_16 run.\n"
     ]
    }
   ],
   "source": [
    "results_df_7_wave = experiments_runner(\n",
    "    pipelines_to_run=[pipeline_16],\n",
    "    split_instance=SplitDefault(),\n",
    "    dataset=dataset\n",
    ")"
   ]
  },
  {
   "cell_type": "code",
   "execution_count": 32,
   "id": "aeb14f98",
   "metadata": {
    "execution": {
     "iopub.execute_input": "2021-12-05T14:12:12.563926Z",
     "iopub.status.busy": "2021-12-05T14:12:12.549243Z",
     "iopub.status.idle": "2021-12-05T14:12:12.910109Z",
     "shell.execute_reply": "2021-12-05T14:12:12.910586Z",
     "shell.execute_reply.started": "2021-12-05T13:22:16.712311Z"
    },
    "papermill": {
     "duration": 0.527752,
     "end_time": "2021-12-05T14:12:12.910745",
     "exception": false,
     "start_time": "2021-12-05T14:12:12.382993",
     "status": "completed"
    },
    "tags": []
   },
   "outputs": [
    {
     "data": {
      "image/png": "[encoded data removed]",
      "text/plain": [
       "<Figure size 1296x504 with 1 Axes>"
      ]
     },
     "metadata": {
      "needs_background": "light"
     },
     "output_type": "display_data"
    }
   ],
   "source": [
    "results_df_7_wave = pd.concat([results_df_6_wave,\n",
    "                               results_df_7_wave]).sort_values('pipeline')\n",
    "plot_pipelines_results(results_df_7_wave)"
   ]
  },
  {
   "cell_type": "code",
   "execution_count": 33,
   "id": "5f527c56",
   "metadata": {
    "execution": {
     "iopub.execute_input": "2021-12-05T14:12:13.248553Z",
     "iopub.status.busy": "2021-12-05T14:12:13.247910Z",
     "iopub.status.idle": "2021-12-05T14:12:13.249683Z",
     "shell.execute_reply": "2021-12-05T14:12:13.250115Z",
     "shell.execute_reply.started": "2021-12-05T13:23:11.263367Z"
    },
    "papermill": {
     "duration": 0.169693,
     "end_time": "2021-12-05T14:12:13.250295",
     "exception": false,
     "start_time": "2021-12-05T14:12:13.080602",
     "status": "completed"
    },
    "tags": []
   },
   "outputs": [],
   "source": [
    "def pipeline_17():\n",
    "    return Pipeline([\n",
    "        ('imputer_', SimpleImputer()),\n",
    "        ('scaler_', StandardScaler()),\n",
    "        ('model_', MLPClassifier(random_state=77, solver='lbfgs'))\n",
    "    ])"
   ]
  },
  {
   "cell_type": "code",
   "execution_count": 34,
   "id": "f716b8a7",
   "metadata": {
    "execution": {
     "iopub.execute_input": "2021-12-05T14:12:13.581161Z",
     "iopub.status.busy": "2021-12-05T14:12:13.580541Z",
     "iopub.status.idle": "2021-12-05T14:12:55.831383Z",
     "shell.execute_reply": "2021-12-05T14:12:55.831881Z",
     "shell.execute_reply.started": "2021-12-05T13:23:14.249805Z"
    },
    "papermill": {
     "duration": 42.416832,
     "end_time": "2021-12-05T14:12:55.832055",
     "exception": false,
     "start_time": "2021-12-05T14:12:13.415223",
     "status": "completed"
    },
    "tags": []
   },
   "outputs": [
    {
     "name": "stdout",
     "output_type": "stream",
     "text": [
      "Running pipeline_17.\n",
      "pipeline_17 run.\n"
     ]
    }
   ],
   "source": [
    "results_df_8_wave = experiments_runner(\n",
    "    pipelines_to_run=[pipeline_17],\n",
    "    split_instance=SplitDefault(),\n",
    "    dataset=dataset,\n",
    ")"
   ]
  },
  {
   "cell_type": "code",
   "execution_count": 35,
   "id": "a42544f8",
   "metadata": {
    "execution": {
     "iopub.execute_input": "2021-12-05T14:12:56.192477Z",
     "iopub.status.busy": "2021-12-05T14:12:56.167118Z",
     "iopub.status.idle": "2021-12-05T14:12:56.537804Z",
     "shell.execute_reply": "2021-12-05T14:12:56.538273Z",
     "shell.execute_reply.started": "2021-12-05T13:23:55.513041Z"
    },
    "papermill": {
     "duration": 0.542634,
     "end_time": "2021-12-05T14:12:56.538434",
     "exception": false,
     "start_time": "2021-12-05T14:12:55.995800",
     "status": "completed"
    },
    "tags": []
   },
   "outputs": [
    {
     "data": {
      "image/png": "[encoded data removed]",
      "text/plain": [
       "<Figure size 1296x504 with 1 Axes>"
      ]
     },
     "metadata": {
      "needs_background": "light"
     },
     "output_type": "display_data"
    }
   ],
   "source": [
    "results_df_8_wave = pd.concat([results_df_7_wave,\n",
    "                               results_df_8_wave]).sort_values('pipeline')\n",
    "plot_pipelines_results(results_df_8_wave)"
   ]
  },
  {
   "cell_type": "code",
   "execution_count": 36,
   "id": "4aeb859e",
   "metadata": {
    "execution": {
     "iopub.execute_input": "2021-12-05T14:12:56.879595Z",
     "iopub.status.busy": "2021-12-05T14:12:56.878651Z",
     "iopub.status.idle": "2021-12-05T14:12:56.881399Z",
     "shell.execute_reply": "2021-12-05T14:12:56.880927Z",
     "shell.execute_reply.started": "2021-12-05T13:45:47.005764Z"
    },
    "papermill": {
     "duration": 0.176221,
     "end_time": "2021-12-05T14:12:56.881539",
     "exception": false,
     "start_time": "2021-12-05T14:12:56.705318",
     "status": "completed"
    },
    "tags": []
   },
   "outputs": [],
   "source": [
    "def pipeline_18():\n",
    "    return Pipeline([\n",
    "        ('imputer_', SimpleImputer()),\n",
    "        ('scaler_', StandardScaler()),\n",
    "        ('model_', MLPClassifier(random_state=77, alpha=0.1))\n",
    "    ])\n",
    "\n",
    "def pipeline_19():\n",
    "    return Pipeline([\n",
    "        ('imputer_', SimpleImputer()),\n",
    "        ('scaler_', StandardScaler()),\n",
    "        ('model_', MLPClassifier(random_state=77, alpha=0.01))\n",
    "    ])\n",
    "\n",
    "def pipeline_20():\n",
    "    return Pipeline([\n",
    "        ('imputer_', SimpleImputer()),\n",
    "        ('scaler_', StandardScaler()),\n",
    "        ('model_', MLPClassifier(random_state=77, alpha=0.001))\n",
    "    ])"
   ]
  },
  {
   "cell_type": "code",
   "execution_count": 37,
   "id": "d7c48533",
   "metadata": {
    "execution": {
     "iopub.execute_input": "2021-12-05T14:12:57.214903Z",
     "iopub.status.busy": "2021-12-05T14:12:57.214093Z",
     "iopub.status.idle": "2021-12-05T14:15:06.135868Z",
     "shell.execute_reply": "2021-12-05T14:15:06.136677Z",
     "shell.execute_reply.started": "2021-12-05T13:46:39.300640Z"
    },
    "papermill": {
     "duration": 129.090522,
     "end_time": "2021-12-05T14:15:06.137047",
     "exception": false,
     "start_time": "2021-12-05T14:12:57.046525",
     "status": "completed"
    },
    "tags": []
   },
   "outputs": [
    {
     "name": "stdout",
     "output_type": "stream",
     "text": [
      "Running pipeline_18.\n",
      "pipeline_18 run.\n",
      "Running pipeline_19.\n",
      "pipeline_19 run.\n",
      "Running pipeline_20.\n",
      "pipeline_20 run.\n"
     ]
    }
   ],
   "source": [
    "results_df_9_wave = experiments_runner(\n",
    "    pipelines_to_run=[pipeline_18, pipeline_19, pipeline_20],\n",
    "    split_instance=SplitDefault(),\n",
    "    dataset=dataset,\n",
    ")"
   ]
  },
  {
   "cell_type": "code",
   "execution_count": 38,
   "id": "d9d40873",
   "metadata": {
    "execution": {
     "iopub.execute_input": "2021-12-05T14:15:06.475170Z",
     "iopub.status.busy": "2021-12-05T14:15:06.474535Z",
     "iopub.status.idle": "2021-12-05T14:15:06.803522Z",
     "shell.execute_reply": "2021-12-05T14:15:06.802955Z",
     "shell.execute_reply.started": "2021-12-05T13:49:10.359041Z"
    },
    "papermill": {
     "duration": 0.499286,
     "end_time": "2021-12-05T14:15:06.803654",
     "exception": false,
     "start_time": "2021-12-05T14:15:06.304368",
     "status": "completed"
    },
    "tags": []
   },
   "outputs": [
    {
     "data": {
      "image/png": "[encoded data removed]",
      "text/plain": [
       "<Figure size 1296x504 with 1 Axes>"
      ]
     },
     "metadata": {
      "needs_background": "light"
     },
     "output_type": "display_data"
    }
   ],
   "source": [
    "results_df_9_wave = pd.concat([results_df_8_wave,\n",
    "                               results_df_9_wave]).sort_values('pipeline')\n",
    "plot_pipelines_results(results_df_9_wave)"
   ]
  },
  {
   "cell_type": "code",
   "execution_count": 39,
   "id": "b8c35794",
   "metadata": {
    "execution": {
     "iopub.execute_input": "2021-12-05T14:15:07.148959Z",
     "iopub.status.busy": "2021-12-05T14:15:07.148358Z",
     "iopub.status.idle": "2021-12-05T14:15:07.155718Z",
     "shell.execute_reply": "2021-12-05T14:15:07.156182Z",
     "shell.execute_reply.started": "2021-12-05T13:52:11.852615Z"
    },
    "papermill": {
     "duration": 0.180251,
     "end_time": "2021-12-05T14:15:07.156346",
     "exception": false,
     "start_time": "2021-12-05T14:15:06.976095",
     "status": "completed"
    },
    "tags": []
   },
   "outputs": [],
   "source": [
    "def pipeline_21():\n",
    "    return Pipeline([\n",
    "        ('imputer_', SimpleImputer()),\n",
    "        ('scaler_', StandardScaler()),\n",
    "        ('model_', MLPClassifier(random_state=77, alpha=0.01, max_iter=50))\n",
    "    ])\n",
    "\n",
    "def pipeline_22():\n",
    "    return Pipeline([\n",
    "        ('imputer_', SimpleImputer()),\n",
    "        ('scaler_', StandardScaler()),\n",
    "        ('model_', MLPClassifier(random_state=77, alpha=0.01, max_iter=100))\n",
    "    ])\n",
    "\n",
    "def pipeline_23():\n",
    "    return Pipeline([\n",
    "        ('imputer_', SimpleImputer()),\n",
    "        ('scaler_', StandardScaler()),\n",
    "        ('model_', MLPClassifier(random_state=77, alpha=0.01, max_iter=150))\n",
    "    ])\n",
    "\n",
    "def pipeline_24():\n",
    "    return Pipeline([\n",
    "        ('imputer_', SimpleImputer()),\n",
    "        ('scaler_', StandardScaler()),\n",
    "        ('model_', MLPClassifier(random_state=77, alpha=0.01, max_iter=225))\n",
    "    ])"
   ]
  },
  {
   "cell_type": "code",
   "execution_count": 40,
   "id": "a35a953a",
   "metadata": {
    "execution": {
     "iopub.execute_input": "2021-12-05T14:15:07.495914Z",
     "iopub.status.busy": "2021-12-05T14:15:07.495326Z",
     "iopub.status.idle": "2021-12-05T14:17:24.968009Z",
     "shell.execute_reply": "2021-12-05T14:17:24.968532Z",
     "shell.execute_reply.started": "2021-12-05T13:52:35.825849Z"
    },
    "papermill": {
     "duration": 137.644767,
     "end_time": "2021-12-05T14:17:24.968711",
     "exception": false,
     "start_time": "2021-12-05T14:15:07.323944",
     "status": "completed"
    },
    "tags": []
   },
   "outputs": [
    {
     "name": "stdout",
     "output_type": "stream",
     "text": [
      "Running pipeline_21.\n",
      "pipeline_21 run.\n",
      "Running pipeline_22.\n",
      "pipeline_22 run.\n",
      "Running pipeline_23.\n",
      "pipeline_23 run.\n",
      "Running pipeline_24.\n",
      "pipeline_24 run.\n"
     ]
    }
   ],
   "source": [
    "results_df_10_wave = experiments_runner(\n",
    "    pipelines_to_run=[pipeline_21, pipeline_22,\n",
    "                      pipeline_23, pipeline_24],\n",
    "    split_instance=SplitDefault(),\n",
    "    dataset=dataset,\n",
    ")"
   ]
  },
  {
   "cell_type": "code",
   "execution_count": 41,
   "id": "fe4a24c0",
   "metadata": {
    "execution": {
     "iopub.execute_input": "2021-12-05T14:17:25.315205Z",
     "iopub.status.busy": "2021-12-05T14:17:25.314606Z",
     "iopub.status.idle": "2021-12-05T14:17:25.745950Z",
     "shell.execute_reply": "2021-12-05T14:17:25.746425Z",
     "shell.execute_reply.started": "2021-12-05T13:55:19.992727Z"
    },
    "papermill": {
     "duration": 0.60694,
     "end_time": "2021-12-05T14:17:25.746587",
     "exception": false,
     "start_time": "2021-12-05T14:17:25.139647",
     "status": "completed"
    },
    "tags": []
   },
   "outputs": [
    {
     "data": {
      "image/png": "[encoded data removed]",
      "text/plain": [
       "<Figure size 1296x504 with 1 Axes>"
      ]
     },
     "metadata": {
      "needs_background": "light"
     },
     "output_type": "display_data"
    }
   ],
   "source": [
    "results_df_10_wave = pd.concat([results_df_9_wave,\n",
    "                               results_df_10_wave]).sort_values('pipeline')\n",
    "plot_pipelines_results(results_df_10_wave)"
   ]
  },
  {
   "cell_type": "code",
   "execution_count": 42,
   "id": "b62d5bec",
   "metadata": {
    "execution": {
     "iopub.execute_input": "2021-12-05T14:17:26.107500Z",
     "iopub.status.busy": "2021-12-05T14:17:26.106846Z",
     "iopub.status.idle": "2021-12-05T14:17:26.109606Z",
     "shell.execute_reply": "2021-12-05T14:17:26.109168Z",
     "shell.execute_reply.started": "2021-12-05T13:56:18.818151Z"
    },
    "papermill": {
     "duration": 0.18557,
     "end_time": "2021-12-05T14:17:26.109739",
     "exception": false,
     "start_time": "2021-12-05T14:17:25.924169",
     "status": "completed"
    },
    "tags": []
   },
   "outputs": [],
   "source": [
    "def pipeline_25():\n",
    "    return Pipeline([\n",
    "        ('imputer_', SimpleImputer(strategy='most_frequent')),\n",
    "        ('scaler_', StandardScaler()),\n",
    "        ('model_', MLPClassifier(random_state=77, alpha=0.01, max_iter=200))\n",
    "    ])"
   ]
  },
  {
   "cell_type": "code",
   "execution_count": 43,
   "id": "d9850e26",
   "metadata": {
    "execution": {
     "iopub.execute_input": "2021-12-05T14:17:26.455178Z",
     "iopub.status.busy": "2021-12-05T14:17:26.454526Z",
     "iopub.status.idle": "2021-12-05T14:18:08.919208Z",
     "shell.execute_reply": "2021-12-05T14:18:08.919978Z",
     "shell.execute_reply.started": "2021-12-05T13:56:29.241852Z"
    },
    "papermill": {
     "duration": 42.640238,
     "end_time": "2021-12-05T14:18:08.920233",
     "exception": false,
     "start_time": "2021-12-05T14:17:26.279995",
     "status": "completed"
    },
    "tags": []
   },
   "outputs": [
    {
     "name": "stdout",
     "output_type": "stream",
     "text": [
      "Running pipeline_25.\n",
      "pipeline_25 run.\n"
     ]
    }
   ],
   "source": [
    "results_df_11_wave = experiments_runner(\n",
    "    pipelines_to_run=[pipeline_25],\n",
    "    split_instance=SplitDefault(),\n",
    "    dataset=dataset,\n",
    ")"
   ]
  },
  {
   "cell_type": "code",
   "execution_count": 44,
   "id": "0b03086e",
   "metadata": {
    "execution": {
     "iopub.execute_input": "2021-12-05T14:18:09.293905Z",
     "iopub.status.busy": "2021-12-05T14:18:09.285106Z",
     "iopub.status.idle": "2021-12-05T14:18:09.706160Z",
     "shell.execute_reply": "2021-12-05T14:18:09.705659Z",
     "shell.execute_reply.started": "2021-12-05T13:57:18.938032Z"
    },
    "papermill": {
     "duration": 0.612543,
     "end_time": "2021-12-05T14:18:09.706313",
     "exception": false,
     "start_time": "2021-12-05T14:18:09.093770",
     "status": "completed"
    },
    "tags": []
   },
   "outputs": [
    {
     "data": {
      "image/png": "[encoded data removed]",
      "text/plain": [
       "<Figure size 1296x504 with 1 Axes>"
      ]
     },
     "metadata": {
      "needs_background": "light"
     },
     "output_type": "display_data"
    }
   ],
   "source": [
    "results_df_11_wave = pd.concat([results_df_10_wave,\n",
    "                               results_df_11_wave]).sort_values('pipeline')\n",
    "plot_pipelines_results(results_df_11_wave)"
   ]
  },
  {
   "cell_type": "code",
   "execution_count": 45,
   "id": "e20003d3",
   "metadata": {
    "execution": {
     "iopub.execute_input": "2021-12-05T14:18:10.062604Z",
     "iopub.status.busy": "2021-12-05T14:18:10.061993Z",
     "iopub.status.idle": "2021-12-05T14:18:56.100572Z",
     "shell.execute_reply": "2021-12-05T14:18:56.100055Z",
     "shell.execute_reply.started": "2021-12-05T13:57:43.510168Z"
    },
    "papermill": {
     "duration": 46.218321,
     "end_time": "2021-12-05T14:18:56.100711",
     "exception": false,
     "start_time": "2021-12-05T14:18:09.882390",
     "status": "completed"
    },
    "tags": []
   },
   "outputs": [
    {
     "name": "stdout",
     "output_type": "stream",
     "text": [
      "Test estimations saved. Path: test_submission_pipeline_25.csv\n"
     ]
    },
    {
     "data": {
      "text/html": [
       "<div>\n",
       "<style scoped>\n",
       "    .dataframe tbody tr th:only-of-type {\n",
       "        vertical-align: middle;\n",
       "    }\n",
       "\n",
       "    .dataframe tbody tr th {\n",
       "        vertical-align: top;\n",
       "    }\n",
       "\n",
       "    .dataframe thead th {\n",
       "        text-align: right;\n",
       "    }\n",
       "</style>\n",
       "<table border=\"1\" class=\"dataframe\">\n",
       "  <thead>\n",
       "    <tr style=\"text-align: right;\">\n",
       "      <th></th>\n",
       "      <th>pipeline</th>\n",
       "      <th>dataset</th>\n",
       "      <th>logloss</th>\n",
       "    </tr>\n",
       "  </thead>\n",
       "  <tbody>\n",
       "  </tbody>\n",
       "</table>\n",
       "</div>"
      ],
      "text/plain": [
       "Empty DataFrame\n",
       "Columns: [pipeline, dataset, logloss]\n",
       "Index: []"
      ]
     },
     "execution_count": 45,
     "metadata": {},
     "output_type": "execute_result"
    }
   ],
   "source": [
    "experiments_runner(\n",
    "    pipelines_to_run=[pipeline_25],\n",
    "    split_instance=SplitDefault(),\n",
    "    dataset=dataset,\n",
    "    save_test_preds=True,\n",
    "    skip_train_valid=True\n",
    ")"
   ]
  },
  {
   "cell_type": "markdown",
   "id": "7e38f4d9",
   "metadata": {
    "papermill": {
     "duration": 0.171863,
     "end_time": "2021-12-05T14:18:56.445555",
     "exception": false,
     "start_time": "2021-12-05T14:18:56.273692",
     "status": "completed"
    },
    "tags": []
   },
   "source": [
    "### Conclusion:\n",
    "\n",
    "- pipeline_12 was the best result in this 24 hours-competition."
   ]
  },
  {
   "cell_type": "markdown",
   "id": "bd3f0050",
   "metadata": {},
   "source": []
  }
 ],
 "metadata": {
  "kernelspec": {
   "display_name": "Python 3",
   "language": "python",
   "name": "python3"
  },
  "language_info": {
   "codemirror_mode": {
    "name": "ipython",
    "version": 3
   },
   "file_extension": ".py",
   "mimetype": "text/x-python",
   "name": "python",
   "nbconvert_exporter": "python",
   "pygments_lexer": "ipython3",
   "version": "3.7.12"
  },
  "papermill": {
   "default_parameters": {},
   "duration": 1079.537031,
   "end_time": "2021-12-05T14:18:57.531831",
   "environment_variables": {},
   "exception": null,
   "input_path": "__notebook__.ipynb",
   "output_path": "__notebook__.ipynb",
   "parameters": {},
   "start_time": "2021-12-05T14:00:57.994800",
   "version": "2.3.3"
  }
 },
 "nbformat": 4,
 "nbformat_minor": 5
}
